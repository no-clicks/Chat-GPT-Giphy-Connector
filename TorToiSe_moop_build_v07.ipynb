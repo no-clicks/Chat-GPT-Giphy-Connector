{
  "cells": [
    {
      "cell_type": "markdown",
      "metadata": {
        "id": "view-in-github",
        "colab_type": "text"
      },
      "source": [
        "<a href=\"https://colab.research.google.com/github/no-clicks/Chat-GPT-Giphy-Connector/blob/main/TorToiSe_moop_build_v07.ipynb\" target=\"_parent\"><img src=\"https://colab.research.google.com/assets/colab-badge.svg\" alt=\"Open In Colab\"/></a>"
      ]
    },
    {
      "cell_type": "markdown",
      "metadata": {
        "id": "jOOz7PsB9Ggo"
      },
      "source": [
        "# **🐢TorToiSe (Moop's Notebook) v0.7**\n",
        "[TorToiSe](https://github.com/neonbjb/tortoise-tts) by James Betker. Built off of James's [Original Notebook](https://colab.research.google.com/drive/1wVVqUPqwiDBUVeWWOUNglpGhU3hg_cbR?usp=sharing)\n",
        "\n",
        "Check out the [Github](https://github.com/no-clicks/TorToiSe-Moops-Colabratory) for this notebook.\n",
        "\n",
        "How to render:\n",
        "\n",
        "1.   Make sure Runtime type is set to GPU\n",
        "2.   Run **Setup**\n",
        "3.   Run **Available Voices** to get a list of voices in the voice directory.\n",
        "4.   Run **Voice Settings** - To use a *Single Voice*,  leave Voice Blending blank. To use *Voice Blending,* leave Single Voice blank.\n",
        "5.   Run **Dialogue** - This supports multiple lines. Separate paragraphs with a double space. Only use periods at the end of a sentence (instead of Dr. write out doctor), elipses is not supported.\n",
        "6.   Run **Run** - A new directory will be created inside of your drive called TorToiSe. A subdirectory with your project name will reside inside of it. - once completed, you will get a datatable of each sentence rendered with basic information about it.\n",
        "\n",
        "How to train:\n",
        "1.   Run **Setup**\n",
        "2.   Run **Training** - Name the voice before running the Training Step. Upload your voice samples, (no background noise, 5-10 seconds each 15-20 samples seem to work best). A new directory in google drive under TorToise/Voices will be created.\n",
        "3. After training, the new voice should appear in the Available voices section and can now be used.  \n",
        "\n",
        "\n"
      ]
    },
    {
      "cell_type": "markdown",
      "metadata": {
        "id": "Rtz7gKfO9N2K"
      },
      "source": [
        "# Setup"
      ]
    },
    {
      "cell_type": "code",
      "execution_count": null,
      "metadata": {
        "id": "btdlDhgh9XrR",
        "cellView": "form"
      },
      "outputs": [],
      "source": [
        "#@title ## Installs\n",
        "%%capture\n",
        "!pip3 install -U scipy\n",
        "!git clone https://github.com/jnordberg/tortoise-tts.git\n",
        "%cd tortoise-tts\n",
        "!pip3 install transformers==4.19.0\n",
        "!xargs -n 1 pip3 install < requirements.txt\n",
        "!python3 setup.py install\n",
        "!pip install pydub\n",
        "!pip install rake_nltk"
      ]
    },
    {
      "cell_type": "code",
      "execution_count": null,
      "metadata": {
        "id": "0JEEVRsc9r1z",
        "cellView": "form"
      },
      "outputs": [],
      "source": [
        "#@title ## Imports\n",
        "%%capture\n",
        "\n",
        "import torch\n",
        "import torchaudio\n",
        "import torch.nn as nn\n",
        "import torch.nn.functional as F\n",
        "\n",
        "import IPython\n",
        "\n",
        "import nltk\n",
        "import pandas as pd\n",
        "import itertools\n",
        "import os\n",
        "import shutil\n",
        "import csv\n",
        "\n",
        "from IPython.display import clear_output\n",
        "from pydub import AudioSegment\n",
        "from nltk.tokenize import sent_tokenize\n",
        "from rake_nltk import Rake\n",
        "from google.colab import data_table\n",
        "from vega_datasets import data\n",
        "from tortoise.api import TextToSpeech\n",
        "from tortoise.utils.audio import load_audio, load_voice, load_voices\n",
        "\n",
        "# This will download all the models used by Tortoise from the HuggingFace hub.\n",
        "tts = TextToSpeech()\n",
        "\n",
        "# Download the punkt tokenizer\n",
        "nltk.download('punkt')"
      ]
    },
    {
      "cell_type": "code",
      "execution_count": null,
      "metadata": {
        "id": "Mp_NscQA-CM8",
        "cellView": "form",
        "colab": {
          "base_uri": "https://localhost:8080/"
        },
        "outputId": "9bc83f8b-bd95-42d6-e781-073170244030"
      },
      "outputs": [
        {
          "output_type": "stream",
          "name": "stdout",
          "text": [
            "Mounted at /content/drive\n",
            "Parent directory created at /content/drive/MyDrive/TorToiSe\n",
            "Voice directory created at /content/drive/MyDrive/TorToiSe/Voices\n",
            "Project directory created at /content/drive/MyDrive/TorToiSe/Projects\n",
            "Directories and their contents copied from /content/drive/MyDrive/TorToiSe/Voices to /content/tortoise-tts/tortoise/voices\n"
          ]
        }
      ],
      "source": [
        "#@title ## Notebook Directories (Google Drive)\n",
        "\n",
        "from google.colab import drive\n",
        "drive.mount('/content/drive')\n",
        "from pydrive.auth import GoogleAuth\n",
        "from pydrive.drive import GoogleDrive\n",
        "from google.colab import auth\n",
        "from oauth2client.client import GoogleCredentials\n",
        "\n",
        "# Authenticate and create the PyDrive client.\n",
        "auth.authenticate_user()\n",
        "gauth = GoogleAuth()\n",
        "gauth.credentials = GoogleCredentials.get_application_default()\n",
        "drive = GoogleDrive(gauth)\n",
        "\n",
        "# Set the directory paths in Content\n",
        "contVoiceDir = os.path.join('/content/tortoise-tts/tortoise/voices')\n",
        "\n",
        "# Set the directory paths in Drive\n",
        "driveParentDir = os.path.join('/content/drive/MyDrive/TorToiSe')\n",
        "driveVoiceDir = os.path.join(driveParentDir, 'Voices')\n",
        "driveProjectDir = os.path.join(driveParentDir, 'Projects')\n",
        "\n",
        "# Create the Parent directory if it doesn't exist\n",
        "os.makedirs(driveParentDir, exist_ok=True)\n",
        "print('Parent directory created at {}'.format(driveParentDir))\n",
        "\n",
        "# Create the Voices directory if it doesn't exist\n",
        "os.makedirs(driveVoiceDir, exist_ok=True)\n",
        "print('Voice directory created at {}'.format(driveVoiceDir))\n",
        "\n",
        "# Create the Project directory if it doesn't exist\n",
        "os.makedirs(driveProjectDir, exist_ok=True)\n",
        "print('Project directory created at {}'.format(driveProjectDir))\n",
        "\n",
        "# Set the source and destination directories (deliciously modular)\n",
        "src_dir = driveVoiceDir\n",
        "dst_dir = contVoiceDir\n",
        "# Iterate through the directories and their contents in the source directory\n",
        "for root, dirs, files in os.walk(src_dir):\n",
        "  # Copy the directories and their contents to the destination\n",
        "  shutil.copytree(root, os.path.join(dst_dir, root[len(src_dir):]), dirs_exist_ok=True)\n",
        "print('Directories and their contents copied from {} to {}'.format(src_dir, dst_dir))"
      ]
    },
    {
      "cell_type": "markdown",
      "metadata": {
        "id": "ILHhQzHUoG1D"
      },
      "source": [
        "# Options"
      ]
    },
    {
      "cell_type": "code",
      "execution_count": null,
      "metadata": {
        "id": "9NvGCysmIZRy",
        "cellView": "form"
      },
      "outputs": [],
      "source": [
        "#@title ## Available Voices\n",
        "\n",
        "#@markdown Remove default voices?\n",
        "rem_def = False #@param {type:\"boolean\"}\n",
        "\n",
        "if rem_def:\n",
        "  # Iterate through the directories and files in the scanned directory\n",
        "  for entry in os.scandir(contVoiceDir):\n",
        "    # If the entry is a directory, remove it and its contents\n",
        "    if entry.is_dir():\n",
        "      shutil.rmtree(entry.path)\n",
        "    # If the entry is a file, remove it\n",
        "    else:\n",
        "      os.unlink(entry.path)\n",
        "\n",
        "# Set the source and destination directories (deliciously modular)\n",
        "src_dir = driveVoiceDir\n",
        "dst_dir = contVoiceDir\n",
        "# Iterate through the directories and their contents in the source directory\n",
        "for root, dirs, files in os.walk(src_dir):\n",
        "  # Copy the directories and their contents to the destination\n",
        "  shutil.copytree(root, os.path.join(dst_dir, root[len(src_dir):]), dirs_exist_ok=True)\n",
        "print('Directories and their contents copied from {} to {}'.format(src_dir, dst_dir))\n",
        "\n",
        "# Get a list of the voices in the directory\n",
        "dir_list = [d for d in os.listdir(contVoiceDir) if os.path.isdir(os.path.join(contVoiceDir, d))]\n",
        "\n",
        "# Group the directories into groups of three\n",
        "dir_groups = [list(g) for k, g in itertools.groupby(dir_list, lambda x: dir_list.index(x) // 6)]\n",
        "\n",
        "# Create a dataframe to hold the directories\n",
        "df = pd.DataFrame(columns=['1', '2', '3', '4', '5', '6'])\n",
        "\n",
        "# Add the groups of directories as rows to the dataframe\n",
        "for group in dir_groups:\n",
        "  if len(group) < 6:\n",
        "    # Add None values to the group if it has less than three elements\n",
        "    group += [None] * (6 - len(group))\n",
        "  df = df.append({'1': group[0], '2': group[1], '3': group[2], '4': group[3], '5': group[4], '6': group[5]}, ignore_index=True)\n",
        "\n",
        "# Display the dataframe\n",
        "df\n",
        "# Display the dataframe without the index column\n",
        "data_table.DataTable(df, include_index=False)"
      ]
    },
    {
      "cell_type": "code",
      "execution_count": null,
      "metadata": {
        "cellView": "form",
        "id": "uHJsKvc-ImbB"
      },
      "outputs": [],
      "source": [
        "#@title ## Voice Settings\n",
        "#@markdown Choose a name for the project\n",
        "project_title = '' #@param {type:\"string\"}\n",
        "\n",
        "#@markdown Single voice\n",
        "voice = '' #@param {type:\"string\"}\n",
        "\n",
        "#@markdown Voice blending - Format as ['voice1', 'voice2'] in order for this to work properly.\n",
        "voices = None #@param {type:\"raw\"}\n",
        "\n",
        "#@markdown Voice render quality\n",
        "preset = 'high_quality' #@param [\"ultra_fast\", \"fast\", \"standard\", \"high_quality\"]"
      ]
    },
    {
      "cell_type": "code",
      "execution_count": null,
      "metadata": {
        "id": "7LRFsrzaIu9z"
      },
      "outputs": [],
      "source": [
        "#@title ## Dialogue\n",
        "text = \"\"\"\n",
        "As the team delves deeper into the enigmatic expanse, they stumble upon an unexpected sight: a doorway that leads to a series of office like rooms.\n",
        "The rooms are filled with sparse, old furniture, strewn about in nonsensical arrangements.\n",
        "The contrast between these seemingly mundane office spaces and the bizarre, otherworldly environment outside the rooms is jarring, only adding to the overall mystery of their location.\n",
        "\n",
        "Doctor Thompson, eager to press on and unravel the secrets of the spatial anomaly, is determined to continue their exploration.\n",
        "However, Oliver, ever the pragmatic leader, argues that the team should take advantage of the relative safety provided by the rooms and set up camp for the night.\n",
        "He insists that the team needs to rest and recuperate before venturing further into the unknown.\n",
        "\n",
        "\"\"\""
      ]
    },
    {
      "cell_type": "code",
      "execution_count": null,
      "metadata": {
        "id": "Mb53A5zdJALt",
        "cellView": "form"
      },
      "outputs": [],
      "source": [
        "#@title ## Run\n",
        "# Set the initial project directory path\n",
        "driveProjectFile = os.path.join(driveProjectDir, project_title)\n",
        "\n",
        "# Initialize the version number to 1\n",
        "version = 1\n",
        "\n",
        "# Create a new version of the project directory by appending a version number\n",
        "driveProjectFile_versioned = '{} ({})'.format(driveProjectFile, version)\n",
        "\n",
        "# Check if the versioned project directory already exists\n",
        "while os.path.exists(driveProjectFile_versioned):\n",
        "    # Increment the version number and try again\n",
        "    version += 1\n",
        "    driveProjectFile_versioned = '{} ({})'.format(driveProjectFile, version)\n",
        "\n",
        "# Create the versioned project directory\n",
        "os.makedirs(driveProjectFile_versioned)\n",
        "print('Project directory created at {}'.format(driveProjectFile_versioned))\n",
        "\n",
        "driveProjectFile = driveProjectFile_versioned\n",
        "\n",
        "# Check if the voice variable is not empty\n",
        "if voice:\n",
        "    # Use the load_voice() function\n",
        "    voice_samples, conditioning_latents = load_voice(voice)\n",
        "else:\n",
        "    # Use the load_voices() function\n",
        "    voice_samples, conditioning_latents = load_voices(voices)\n",
        "\n",
        "# Split the text into paragraphs\n",
        "paragraphs = text.split('\\n\\n')\n",
        "\n",
        "# Create an empty list to store the data\n",
        "data = []\n",
        "\n",
        "# Initialize the paragraph count to 0\n",
        "paragraph_count = 0\n",
        "\n",
        "# Initialize the sentence count to 0\n",
        "sentence_count = 0\n",
        "\n",
        "# Initialize the audio length to 0\n",
        "\n",
        "# Set the list of stop words\n",
        "stop_words = ['the', 'and', 'a', 'an', 'of', 'in']\n",
        "\n",
        "# Create an instance of the Rake class\n",
        "rake = Rake(stop_words)\n",
        "\n",
        "# Loop through the paragraphs\n",
        "for paragraph in paragraphs:\n",
        "  # Extract the key phrases from the paragraph\n",
        "  rake.extract_keywords_from_text(paragraph)\n",
        "  # Get the list of tuples containing the key phrases and their scores\n",
        "  keyphrases_with_scores = rake.get_ranked_phrases_with_scores()\n",
        "  # Sort the list in descending order based on the scores\n",
        "  sorted_keyphrases_with_scores = sorted(keyphrases_with_scores, key=lambda x: x[1], reverse=True)\n",
        "  # Select the first key phrase\n",
        "  if sorted_keyphrases_with_scores:\n",
        "      keyphrase = sorted_keyphrases_with_scores[0][1]\n",
        "  else:\n",
        "      keyphrase = \"\"\n",
        "\n",
        "  paragraph_count += 1\n",
        "  total_audio_length = 0\n",
        "\n",
        "  # Split the paragraph into sentences\n",
        "  sentences = nltk.sent_tokenize(paragraph)\n",
        "  \n",
        "  # Loop through the sentences in the paragraph\n",
        "  for i in range(len(sentences)):\n",
        "      # Get the sentence\n",
        "      sentence = sentences[i]\n",
        "      #Add to p counter\n",
        "      sentence_count += 1\n",
        "\n",
        "      # Synthesize the sentence using Tortoise TTS\n",
        "      gen = tts.tts_with_preset(sentence, voice_samples=voice_samples, conditioning_latents=conditioning_latents, preset=preset)\n",
        "\n",
        "      # Split the sentence into words and keep only the alphanumeric words\n",
        "      words = [word for word in sentence.split() if word.isalnum()]\n",
        "\n",
        "      # Join the first two words with an underscore\n",
        "      file_name_prefix = '_'.join(words[:3])\n",
        "\n",
        "      # Generate the file name for the wav file\n",
        "      file_name = '{:03d}_{:02d}-{}.wav'.format(sentence_count, paragraph_count, file_name_prefix)\n",
        "\n",
        "      # Set the file path to the output directory\n",
        "      file_path = os.path.join(driveProjectFile, file_name)\n",
        "\n",
        "      # Save the wav file\n",
        "      torchaudio.save(file_path, gen.squeeze(0).cpu(), 24000)\n",
        "\n",
        "      # Read the audio file as a tensor\n",
        "      waveform, sample_rate = torchaudio.load(file_path)\n",
        "\n",
        "      # Get the length of the audio file in samples\n",
        "      num_samples = waveform.size(1)\n",
        "\n",
        "      # Calculate the length of the audio file in seconds\n",
        "      audio_length = num_samples / sample_rate\n",
        "      audio_length = round(audio_length, 2)\n",
        "      total_audio_length += audio_length + 0.6\n",
        "  \n",
        "  \n",
        "      # Add the sentence, audio length, file name, and paragraph count to the data list\n",
        "      data.append({'Clip': sentence_count,'Paragraph': paragraph_count, 'Sentence': sentence, 'Keyphrase': keyphrase,'File Name': file_name, 'Audio Length (s)': audio_length, 'Paragraph Audio Length': total_audio_length})\n",
        "    \n",
        "      # Clear the output\n",
        "      from IPython.display import clear_output\n",
        "      clear_output()\n",
        "\n",
        "# Create a dataframe from the data\n",
        "df = pd.DataFrame(data, columns=['Clip', 'Paragraph', 'Sentence', 'Keyphrase', 'File Name', 'Audio Length (s)', 'Paragraph Audio Length'])\n",
        "csvFilename = 'voice data.csv'\n",
        "csvPath = os.path.join(driveProjectFile, csvFilename)\n",
        "df.to_csv(csvPath, index=False)\n",
        "# Display the dataframe without the index column\n",
        "data_table.DataTable(df, include_index=False)"
      ]
    },
    {
      "cell_type": "markdown",
      "metadata": {
        "id": "X2hjFAZzyXcC"
      },
      "source": [
        "# Training"
      ]
    },
    {
      "cell_type": "code",
      "execution_count": null,
      "metadata": {
        "id": "tnNCR_BqyfX0",
        "cellView": "form"
      },
      "outputs": [],
      "source": [
        "# Optionally, upload use your own voice by running the next two cells. I recommend\n",
        "# you upload at least 2 audio clips. They must be a WAV file, 6-10 seconds long.\n",
        "CUSTOM_VOICE_NAME = '' #@param {type:\"string\"}\n",
        "\n",
        "import os\n",
        "from google.colab import files\n",
        "\n",
        "custom_voice_folder = f\"/content/drive/MyDrive/TorToiSe/Voices/{CUSTOM_VOICE_NAME}\"\n",
        "os.makedirs(custom_voice_folder)\n",
        "for i, file_data in enumerate(files.upload().values()):\n",
        "  with open(os.path.join(custom_voice_folder, f'{i}.wav'), 'wb') as f:\n",
        "    f.write(file_data)\n",
        "\n",
        "# Create the Parent directory if it doesn't exist\n",
        "os.makedirs(driveParentDir, exist_ok=True)\n",
        "print('New voice directory created at {}'.format(custom_voice_folder))"
      ]
    }
  ],
  "metadata": {
    "accelerator": "GPU",
    "colab": {
      "collapsed_sections": [
        "Rtz7gKfO9N2K"
      ],
      "provenance": [],
      "include_colab_link": true
    },
    "gpuClass": "standard",
    "kernelspec": {
      "display_name": "Python 3",
      "name": "python3"
    },
    "language_info": {
      "name": "python"
    }
  },
  "nbformat": 4,
  "nbformat_minor": 0
}